{
 "cells": [
  {
   "cell_type": "code",
   "execution_count": 19,
   "id": "6c77a4e4",
   "metadata": {},
   "outputs": [],
   "source": [
    "import requests as rp\n",
    "from bs4 import BeautifulSoup\n",
    "import pandas as pd"
   ]
  },
  {
   "cell_type": "code",
   "execution_count": 20,
   "id": "50a71694",
   "metadata": {},
   "outputs": [],
   "source": [
    "url=\"https://ticker.finology.in/\"\n",
    "scrap=rp.get(url)"
   ]
  },
  {
   "cell_type": "code",
   "execution_count": 21,
   "id": "5f5601c6",
   "metadata": {},
   "outputs": [],
   "source": [
    "html=BeautifulSoup(scrap.text,\"lxml\")"
   ]
  },
  {
   "cell_type": "code",
   "execution_count": 25,
   "id": "1160c492",
   "metadata": {},
   "outputs": [],
   "source": [
    "t0=html.find_all(\"table\",class_=\"table table-sm table-hover screenertable\")\n",
    "head=t0[0]\n",
    "header=head.find_all(\"th\")\n",
    "#print(header)"
   ]
  },
  {
   "cell_type": "code",
   "execution_count": 26,
   "id": "1daf8a76",
   "metadata": {},
   "outputs": [],
   "source": [
    "title=[]\n",
    "for x in header:\n",
    "    title.append(x.text)"
   ]
  },
  {
   "cell_type": "code",
   "execution_count": 27,
   "id": "e2afbe73",
   "metadata": {},
   "outputs": [
    {
     "name": "stdout",
     "output_type": "stream",
     "text": [
      "['Company', 'PriceRs.', 'Day HighRs.']\n"
     ]
    }
   ],
   "source": [
    "print(title)"
   ]
  },
  {
   "cell_type": "code",
   "execution_count": 28,
   "id": "589200a5",
   "metadata": {},
   "outputs": [],
   "source": [
    "df1=pd.DataFrame(columns=title)\n",
    "rows=head.find_all(\"tr\")\n",
    "#print(rows)"
   ]
  },
  {
   "cell_type": "code",
   "execution_count": 29,
   "id": "260aa8f3",
   "metadata": {},
   "outputs": [],
   "source": [
    "for x in rows[1:]:\n",
    "    data=x.find_all(\"td\")\n",
    "    row=[tr.text for tr in data]\n",
    "    df1.loc[len(df1)]=row\n",
    "df1['Company']=df1['Company'].str.strip()"
   ]
  },
  {
   "cell_type": "markdown",
   "id": "adeb2be8",
   "metadata": {},
   "source": [
    " df1['Company']=df1['Company'].str.strip()"
   ]
  },
  {
   "cell_type": "code",
   "execution_count": 30,
   "id": "4db3e503",
   "metadata": {},
   "outputs": [
    {
     "name": "stdout",
     "output_type": "stream",
     "text": [
      "                 Company PriceRs. Day HighRs.\n",
      "0   Central Dep. Service  1748.00     1762.30\n",
      "1        Hindustan Aeron  2053.45     2110.95\n",
      "2     Power Finance Corp   285.50      286.55\n",
      "3       Aurobindo Pharma   976.65      984.00\n",
      "4            Swan Energy   412.85      446.80\n",
      "5                   NMDC   169.25      169.60\n",
      "6          CarTrade Tech   834.70      860.00\n",
      "7          Vodafone Idea    13.90       14.45\n",
      "8      JP Power Ventures    14.35       15.15\n",
      "9                    REC   321.85      322.90\n",
      "10            Coal India   324.05      326.15\n",
      "11     Godrej Properties  1807.70     1861.10\n",
      "12     Vijaya Diagnostic   633.55      653.90\n",
      "13       Power Grid Corp   211.30      213.00\n",
      "14       Marksans Pharma   129.75      132.20\n"
     ]
    }
   ],
   "source": [
    "print(df1)"
   ]
  },
  {
   "cell_type": "code",
   "execution_count": 34,
   "id": "6a2c5cee",
   "metadata": {},
   "outputs": [],
   "source": [
    "df1.to_csv(\"WeeklyHighstock.csv\",index=False)"
   ]
  },
  {
   "cell_type": "code",
   "execution_count": 13,
   "id": "2138c335",
   "metadata": {},
   "outputs": [],
   "source": [
    "head2=t0[1]\n",
    "h=head2.find_all(\"th\")\n",
    "title2=[]\n",
    "for x in h:\n",
    "    title2.append(x.text)"
   ]
  },
  {
   "cell_type": "code",
   "execution_count": 14,
   "id": "d295ce23",
   "metadata": {},
   "outputs": [
    {
     "name": "stdout",
     "output_type": "stream",
     "text": [
      "['Company', 'PriceRs.', 'Day LowRs.']\n"
     ]
    }
   ],
   "source": [
    "print(title2)"
   ]
  },
  {
   "cell_type": "code",
   "execution_count": 35,
   "id": "47b122f1",
   "metadata": {},
   "outputs": [],
   "source": [
    "df2=pd.DataFrame(columns=title2)\n",
    "rows1=head2.find_all(\"tr\")\n"
   ]
  },
  {
   "cell_type": "code",
   "execution_count": 36,
   "id": "3790add4",
   "metadata": {},
   "outputs": [],
   "source": [
    "for x in rows1[1:]:\n",
    "    data=x.find_all(\"td\")\n",
    "    row=[tr.text for tr in data]\n",
    "    df2.loc[len(df2)]=row"
   ]
  },
  {
   "cell_type": "code",
   "execution_count": 37,
   "id": "b3b8ab36",
   "metadata": {},
   "outputs": [
    {
     "name": "stdout",
     "output_type": "stream",
     "text": [
      "                 Company PriceRs. Day LowRs.\n",
      "0        Honasa Consumer   299.35     256.30\n",
      "1           Petronet LNG   195.10     191.70\n",
      "2      Campus Activewear   255.30     237.80\n",
      "3           Adani Wilmar   294.20     293.05\n",
      "4        Rain Industries   144.20     140.25\n",
      "5   Spectrm Talent Mngmt   103.35     103.35\n",
      "6   Chemcrux Enterprises   286.80     246.10\n",
      "7      Add-Shop E-Retail    30.13      29.01\n",
      "8              Womancart   110.00     110.00\n",
      "9   Arvind Ship Agencies    60.95      59.20\n",
      "10              AKG Exim    22.60      22.40\n",
      "11     KK Shah Hospitals    53.60      52.50\n",
      "12    Oneclick Logistics    66.00      65.00\n",
      "13      Compuage Infocom     9.40       9.40\n",
      "14           Orient Bell   409.50     405.05\n"
     ]
    }
   ],
   "source": [
    "print(df2)"
   ]
  },
  {
   "cell_type": "code",
   "execution_count": 48,
   "id": "856a6b33",
   "metadata": {},
   "outputs": [],
   "source": [
    "df2.to_csv(\"WeeklyLowstock.csv\")"
   ]
  },
  {
   "cell_type": "code",
   "execution_count": 38,
   "id": "d4adfe84",
   "metadata": {},
   "outputs": [],
   "source": [
    "head3=t0[2]\n",
    "h1=head3.find_all(\"th\")\n",
    "title3=[]\n",
    "for x in h1:\n",
    "    title3.append(x.text)"
   ]
  },
  {
   "cell_type": "code",
   "execution_count": 57,
   "id": "9031e404",
   "metadata": {},
   "outputs": [
    {
     "name": "stdout",
     "output_type": "stream",
     "text": [
      "['Company', 'priceRs.', 'Change%']\n"
     ]
    }
   ],
   "source": [
    "print(title3)"
   ]
  },
  {
   "cell_type": "code",
   "execution_count": 41,
   "id": "556eadae",
   "metadata": {},
   "outputs": [],
   "source": [
    "df3=pd.DataFrame(columns=title3)"
   ]
  },
  {
   "cell_type": "code",
   "execution_count": 42,
   "id": "d793b38d",
   "metadata": {},
   "outputs": [],
   "source": [
    "rows2=head3.find_all(\"tr\")"
   ]
  },
  {
   "cell_type": "code",
   "execution_count": 43,
   "id": "dccb35c8",
   "metadata": {},
   "outputs": [],
   "source": [
    "#print(rows2)"
   ]
  },
  {
   "cell_type": "code",
   "execution_count": 44,
   "id": "96a3a61c",
   "metadata": {},
   "outputs": [],
   "source": [
    "for x in rows2[1:]:\n",
    "    data=x.find_all(\"td\")\n",
    "    row=[tr.text for tr in data]\n",
    "    df3.loc[len(df3)]=row"
   ]
  },
  {
   "cell_type": "code",
   "execution_count": 45,
   "id": "10ad0669",
   "metadata": {},
   "outputs": [],
   "source": [
    "df3['Company']=df3['Company'].str.strip()"
   ]
  },
  {
   "cell_type": "code",
   "execution_count": 62,
   "id": "10126206",
   "metadata": {},
   "outputs": [
    {
     "name": "stdout",
     "output_type": "stream",
     "text": [
      "                 Company priceRs.  Change%\n",
      "0     Coral Laboratories   366.00     +20%\n",
      "1       Vanta Bioscience    50.40     +20%\n",
      "2         Sky Industries    80.14  +19.99%\n",
      "3          Majestic Auto   259.10  +19.93%\n",
      "4    Hariyana Ship Break   110.50  +18.77%\n",
      "5     ESAF Small Finance    70.50   +17.5%\n",
      "6    Eastern Logica Info   705.00  +16.92%\n",
      "7         BMW Industries    49.02  +16.19%\n",
      "8          CarTrade Tech   843.15  +15.73%\n",
      "9           Smart Finsec     9.80  +15.43%\n",
      "10        DK Enterprises    98.00  +15.29%\n",
      "11       Centrum Capital    30.45  +14.69%\n",
      "12  Shri Venkatesh Refin    96.90  +14.47%\n",
      "13     Antony Waste Hand   460.30  +14.37%\n",
      "14           Gautam Gems    12.90  +13.26%\n"
     ]
    }
   ],
   "source": [
    "#print(df3)"
   ]
  },
  {
   "cell_type": "code",
   "execution_count": 46,
   "id": "6ac3971d",
   "metadata": {},
   "outputs": [],
   "source": [
    "df3.to_csv(\"Weeklygainer.csv\")"
   ]
  },
  {
   "cell_type": "code",
   "execution_count": 47,
   "id": "5de97b56",
   "metadata": {},
   "outputs": [],
   "source": [
    "head4=t0[3]\n",
    "h2=head4.find_all(\"th\")\n",
    "title4=[]\n",
    "for x in h2:\n",
    "    title4.append(x.text)"
   ]
  },
  {
   "cell_type": "code",
   "execution_count": 65,
   "id": "31f02e61",
   "metadata": {},
   "outputs": [
    {
     "name": "stdout",
     "output_type": "stream",
     "text": [
      "['Company', 'priceRs.', 'Change%']\n"
     ]
    }
   ],
   "source": [
    "print(title4)"
   ]
  },
  {
   "cell_type": "code",
   "execution_count": 66,
   "id": "d78f4349",
   "metadata": {},
   "outputs": [],
   "source": [
    "df4=pd.DataFrame(columns=title4)"
   ]
  },
  {
   "cell_type": "code",
   "execution_count": 67,
   "id": "846be495",
   "metadata": {},
   "outputs": [],
   "source": [
    "rows3=head4.find_all(\"tr\")"
   ]
  },
  {
   "cell_type": "code",
   "execution_count": 68,
   "id": "8091dfaf",
   "metadata": {},
   "outputs": [],
   "source": [
    "for x in rows3[1:]:\n",
    "    data=x.find_all(\"td\")\n",
    "    row=[tr.text for tr in data]\n",
    "    df4.loc[len(df4)]=row\n",
    "df4['Company']=df4['Company'].str.strip()"
   ]
  },
  {
   "cell_type": "code",
   "execution_count": 38,
   "id": "2ddccc9e",
   "metadata": {},
   "outputs": [
    {
     "name": "stdout",
     "output_type": "stream",
     "text": [
      "                 Company priceRs.  Change%\n",
      "0    Shreeshay Engineers    24.10  -19.67%\n",
      "1   Spectrm Talent Mngmt   104.25  -19.28%\n",
      "2   North Eastern Carry.    24.20  -12.48%\n",
      "3      Add-Shop E-Retail    30.07  -11.58%\n",
      "4   Zeal Global Services   151.00  -11.36%\n",
      "5   Kesar Terminal&Infra    35.45   -9.91%\n",
      "6       Felix Industries   108.20   -9.83%\n",
      "7     Renaissance Global   101.95   -9.14%\n",
      "8       KHFM Hospitality    44.55   -8.33%\n",
      "9             Perfectpac    86.24   -8.26%\n",
      "10    Patels Airtemp (I)   421.00   -8.21%\n",
      "11        Jayshree Chem.    11.30   -7.76%\n",
      "12       Shree Ajit Pulp   273.25   -7.28%\n",
      "13       Arrow Greentech   406.15   -7.12%\n",
      "14         Quality Foils    93.00      -7%\n",
      "15   Shreeshay Engineers    24.10  -19.67%\n",
      "16  Spectrm Talent Mngmt   104.25  -19.28%\n",
      "17  North Eastern Carry.    24.20  -12.48%\n",
      "18     Add-Shop E-Retail    30.07  -11.58%\n",
      "19  Zeal Global Services   151.00  -11.36%\n",
      "20  Kesar Terminal&Infra    35.45   -9.91%\n",
      "21      Felix Industries   108.20   -9.83%\n",
      "22    Renaissance Global   101.95   -9.14%\n",
      "23      KHFM Hospitality    44.55   -8.33%\n",
      "24            Perfectpac    86.24   -8.26%\n",
      "25    Patels Airtemp (I)   421.00   -8.21%\n",
      "26        Jayshree Chem.    11.30   -7.76%\n",
      "27       Shree Ajit Pulp   273.25   -7.28%\n",
      "28       Arrow Greentech   406.15   -7.12%\n",
      "29         Quality Foils    93.00      -7%\n"
     ]
    }
   ],
   "source": []
  },
  {
   "cell_type": "code",
   "execution_count": 39,
   "id": "cc55788e",
   "metadata": {},
   "outputs": [],
   "source": [
    "df4.to_csv(\"WeeklyLoser.csv\")"
   ]
  },
  {
   "cell_type": "code",
   "execution_count": 40,
   "id": "8627df76",
   "metadata": {},
   "outputs": [
    {
     "name": "stdout",
     "output_type": "stream",
     "text": [
      "                 Company priceRs.  Change%\n",
      "0    Shreeshay Engineers    24.10  -19.67%\n",
      "1   Spectrm Talent Mngmt   104.25  -19.28%\n",
      "2   North Eastern Carry.    24.20  -12.48%\n",
      "3      Add-Shop E-Retail    30.07  -11.58%\n",
      "4   Zeal Global Services   151.00  -11.36%\n",
      "5   Kesar Terminal&Infra    35.45   -9.91%\n",
      "6       Felix Industries   108.20   -9.83%\n",
      "7     Renaissance Global   101.95   -9.14%\n",
      "8       KHFM Hospitality    44.55   -8.33%\n",
      "9             Perfectpac    86.24   -8.26%\n",
      "10    Patels Airtemp (I)   421.00   -8.21%\n",
      "11        Jayshree Chem.    11.30   -7.76%\n",
      "12       Shree Ajit Pulp   273.25   -7.28%\n",
      "13       Arrow Greentech   406.15   -7.12%\n",
      "14         Quality Foils    93.00      -7%\n",
      "15   Shreeshay Engineers    24.10  -19.67%\n",
      "16  Spectrm Talent Mngmt   104.25  -19.28%\n",
      "17  North Eastern Carry.    24.20  -12.48%\n",
      "18     Add-Shop E-Retail    30.07  -11.58%\n",
      "19  Zeal Global Services   151.00  -11.36%\n",
      "20  Kesar Terminal&Infra    35.45   -9.91%\n",
      "21      Felix Industries   108.20   -9.83%\n",
      "22    Renaissance Global   101.95   -9.14%\n",
      "23      KHFM Hospitality    44.55   -8.33%\n",
      "24            Perfectpac    86.24   -8.26%\n",
      "25    Patels Airtemp (I)   421.00   -8.21%\n",
      "26        Jayshree Chem.    11.30   -7.76%\n",
      "27       Shree Ajit Pulp   273.25   -7.28%\n",
      "28       Arrow Greentech   406.15   -7.12%\n",
      "29         Quality Foils    93.00      -7%\n"
     ]
    }
   ],
   "source": [
    "print(df4)"
   ]
  },
  {
   "cell_type": "code",
   "execution_count": null,
   "id": "18c71f7d",
   "metadata": {},
   "outputs": [],
   "source": []
  }
 ],
 "metadata": {
  "kernelspec": {
   "display_name": "Python 3 (ipykernel)",
   "language": "python",
   "name": "python3"
  },
  "language_info": {
   "codemirror_mode": {
    "name": "ipython",
    "version": 3
   },
   "file_extension": ".py",
   "mimetype": "text/x-python",
   "name": "python",
   "nbconvert_exporter": "python",
   "pygments_lexer": "ipython3",
   "version": "3.11.4"
  }
 },
 "nbformat": 4,
 "nbformat_minor": 5
}
