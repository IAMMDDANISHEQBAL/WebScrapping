{
 "cells": [
  {
   "cell_type": "code",
   "execution_count": 3,
   "id": "138e700c",
   "metadata": {},
   "outputs": [],
   "source": [
    "import requests as rp\n",
    "from bs4 import BeautifulSoup\n",
    "import pandas as pd"
   ]
  },
  {
   "cell_type": "code",
   "execution_count": 4,
   "id": "c7645b7f",
   "metadata": {},
   "outputs": [],
   "source": [
    "url=\"https://www.iplt20.com/auction\"\n",
    "\n",
    "scrap=rp.get(url)"
   ]
  },
  {
   "cell_type": "code",
   "execution_count": 5,
   "id": "03ae92cd",
   "metadata": {},
   "outputs": [],
   "source": [
    "html=BeautifulSoup(scrap.text,\"lxml\")"
   ]
  },
  {
   "cell_type": "code",
   "execution_count": 6,
   "id": "7f7b8e65",
   "metadata": {},
   "outputs": [],
   "source": [
    "#print(html)"
   ]
  },
  {
   "cell_type": "code",
   "execution_count": 7,
   "id": "4336709e",
   "metadata": {},
   "outputs": [],
   "source": [
    "team=html.find_all(\"div\",class_=\"agv-team-name\")"
   ]
  },
  {
   "cell_type": "code",
   "execution_count": 8,
   "id": "14f5775c",
   "metadata": {},
   "outputs": [],
   "source": [
    "Team=[]\n",
    "for x in team:\n",
    "    Team.append(x.text)"
   ]
  },
  {
   "cell_type": "code",
   "execution_count": 9,
   "id": "c145ee26",
   "metadata": {},
   "outputs": [
    {
     "name": "stdout",
     "output_type": "stream",
     "text": [
      "['Chennai Super Kings', 'Delhi Capitals', 'Gujarat Titans', 'Kolkata Knight Riders', 'Lucknow Super Giants', 'Mumbai Indians', 'Punjab Kings', 'Rajasthan Royals', 'Royal Challengers Bangalore', 'Sunrisers Hyderabad']\n"
     ]
    }
   ],
   "source": [
    "print(Team)"
   ]
  },
  {
   "cell_type": "code",
   "execution_count": 10,
   "id": "54fac2c4",
   "metadata": {},
   "outputs": [],
   "source": [
    "Funds_rem=html.select('div.avg-fund-remaining>span.fr-fund')\n",
    "              "
   ]
  },
  {
   "cell_type": "code",
   "execution_count": 11,
   "id": "571f0247",
   "metadata": {},
   "outputs": [],
   "source": [
    "Funds=[]           \n",
    "for x in Funds_rem:\n",
    "    Funds.append(x.text)\n",
    "#rint(Funds)   "
   ]
  },
  {
   "cell_type": "code",
   "execution_count": 12,
   "id": "b5781738",
   "metadata": {},
   "outputs": [],
   "source": [
    "Over_seas = html.select('ul.mb-0.px-1 > li.m-0 >span.fr-fund')\n"
   ]
  },
  {
   "cell_type": "code",
   "execution_count": 13,
   "id": "fc7f5325",
   "metadata": {},
   "outputs": [
    {
     "name": "stdout",
     "output_type": "stream",
     "text": [
      "[<span class=\"fr-fund\">8</span>, <span class=\"fr-fund\">25</span>, <span class=\"fr-fund\">8</span>, <span class=\"fr-fund\">25</span>, <span class=\"fr-fund\">8</span>, <span class=\"fr-fund\">25</span>, <span class=\"fr-fund\">8</span>, <span class=\"fr-fund\">22</span>, <span class=\"fr-fund\">8</span>, <span class=\"fr-fund\">25</span>, <span class=\"fr-fund\">8</span>, <span class=\"fr-fund\">24</span>, <span class=\"fr-fund\">7</span>, <span class=\"fr-fund\">22</span>, <span class=\"fr-fund\">8</span>, <span class=\"fr-fund\">25</span>, <span class=\"fr-fund\">8</span>, <span class=\"fr-fund\">25</span>, <span class=\"fr-fund\">8</span>, <span class=\"fr-fund\">25</span>]\n"
     ]
    }
   ],
   "source": [
    "print(Over_seas)"
   ]
  },
  {
   "cell_type": "code",
   "execution_count": 14,
   "id": "0ae210c0",
   "metadata": {},
   "outputs": [],
   "source": [
    "over=[]\n",
    "player=[]\n",
    "\n",
    "for x in range(0,len(Over_seas)-1,2):\n",
    "    over.append(Over_seas[x].text)\n",
    "    player.append(Over_seas[x+1].text)\n",
    "    \n",
    "    \n",
    "    "
   ]
  },
  {
   "cell_type": "code",
   "execution_count": 15,
   "id": "be6ce7cc",
   "metadata": {},
   "outputs": [
    {
     "name": "stdout",
     "output_type": "stream",
     "text": [
      "['8', '8', '8', '8', '8', '8', '7', '8', '8', '8']\n",
      "['25', '25', '25', '22', '25', '24', '22', '25', '25', '25']\n"
     ]
    }
   ],
   "source": [
    "print(over)\n",
    "print(player)"
   ]
  },
  {
   "cell_type": "code",
   "execution_count": 16,
   "id": "eac80747",
   "metadata": {},
   "outputs": [],
   "source": [
    "df=pd.DataFrame({'TEAMS':Team,'Funds_Remaining':Funds,'Overseas-Players':over,'Total_Players':player})"
   ]
  },
  {
   "cell_type": "code",
   "execution_count": 47,
   "id": "3ecc8fc4",
   "metadata": {},
   "outputs": [
    {
     "name": "stdout",
     "output_type": "stream",
     "text": [
      "[<span class=\"fr-fund\">8</span>, <span class=\"fr-fund\">25</span>, <span class=\"fr-fund\">8</span>, <span class=\"fr-fund\">25</span>, <span class=\"fr-fund\">8</span>, <span class=\"fr-fund\">25</span>, <span class=\"fr-fund\">8</span>, <span class=\"fr-fund\">22</span>, <span class=\"fr-fund\">8</span>, <span class=\"fr-fund\">25</span>, <span class=\"fr-fund\">8</span>, <span class=\"fr-fund\">24</span>, <span class=\"fr-fund\">7</span>, <span class=\"fr-fund\">22</span>, <span class=\"fr-fund\">8</span>, <span class=\"fr-fund\">25</span>, <span class=\"fr-fund\">8</span>, <span class=\"fr-fund\">25</span>, <span class=\"fr-fund\">8</span>, <span class=\"fr-fund\">25</span>]\n"
     ]
    }
   ],
   "source": []
  },
  {
   "cell_type": "code",
   "execution_count": 17,
   "id": "59756d00",
   "metadata": {},
   "outputs": [
    {
     "name": "stdout",
     "output_type": "stream",
     "text": [
      "                         TEAMS Funds_Remaining Overseas-Players Total_Players\n",
      "0          Chennai Super Kings    ₹1,50,00,000                8            25\n",
      "1               Delhi Capitals    ₹4,45,00,000                8            25\n",
      "2               Gujarat Titans    ₹4,45,00,000                8            25\n",
      "3        Kolkata Knight Riders    ₹1,65,00,000                8            22\n",
      "4         Lucknow Super Giants    ₹3,55,00,000                8            25\n",
      "5               Mumbai Indians       ₹5,00,000                8            24\n",
      "6                 Punjab Kings   ₹12,20,00,000                7            22\n",
      "7             Rajasthan Royals    ₹3,35,00,000                8            25\n",
      "8  Royal Challengers Bangalore    ₹1,75,00,000                8            25\n",
      "9          Sunrisers Hyderabad    ₹6,55,00,000                8            25\n"
     ]
    }
   ],
   "source": [
    "print(df)"
   ]
  },
  {
   "cell_type": "code",
   "execution_count": 20,
   "id": "a4681d4f",
   "metadata": {},
   "outputs": [],
   "source": [
    "df.to_csv(\"Final_output.csv\", encoding=\"utf-8\", index=True)\n",
    "\n",
    "\n",
    "                  "
   ]
  },
  {
   "cell_type": "code",
   "execution_count": null,
   "id": "bed1aa16",
   "metadata": {},
   "outputs": [],
   "source": []
  },
  {
   "cell_type": "code",
   "execution_count": null,
   "id": "60b209ce",
   "metadata": {},
   "outputs": [],
   "source": []
  },
  {
   "cell_type": "code",
   "execution_count": null,
   "id": "f846c414",
   "metadata": {},
   "outputs": [],
   "source": []
  },
  {
   "cell_type": "code",
   "execution_count": null,
   "id": "10da213b",
   "metadata": {},
   "outputs": [],
   "source": []
  }
 ],
 "metadata": {
  "kernelspec": {
   "display_name": "Python 3 (ipykernel)",
   "language": "python",
   "name": "python3"
  },
  "language_info": {
   "codemirror_mode": {
    "name": "ipython",
    "version": 3
   },
   "file_extension": ".py",
   "mimetype": "text/x-python",
   "name": "python",
   "nbconvert_exporter": "python",
   "pygments_lexer": "ipython3",
   "version": "3.11.4"
  }
 },
 "nbformat": 4,
 "nbformat_minor": 5
}
